{
 "cells": [
  {
   "cell_type": "code",
   "execution_count": 0,
   "metadata": {
    "application/vnd.databricks.v1+cell": {
     "cellMetadata": {
      "byteLimit": 2048000,
      "rowLimit": 10000
     },
     "inputWidgets": {},
     "nuid": "e41bed69-6c48-48ff-8bea-dfd61c1055a0",
     "showTitle": false,
     "title": ""
    }
   },
   "outputs": [],
   "source": [
    "%run \"./extractor\" "
   ]
  },
  {
   "cell_type": "code",
   "execution_count": 0,
   "metadata": {
    "application/vnd.databricks.v1+cell": {
     "cellMetadata": {
      "byteLimit": 2048000,
      "rowLimit": 10000
     },
     "inputWidgets": {},
     "nuid": "b0fb1387-44ab-4dd7-af6f-0d4d1008bb99",
     "showTitle": false,
     "title": ""
    }
   },
   "outputs": [],
   "source": [
    "%run \"./transformer\" "
   ]
  },
  {
   "cell_type": "code",
   "execution_count": 0,
   "metadata": {
    "application/vnd.databricks.v1+cell": {
     "cellMetadata": {
      "byteLimit": 2048000,
      "rowLimit": 10000
     },
     "inputWidgets": {},
     "nuid": "5d9b6284-64cc-45f7-91fa-76b885fd66e4",
     "showTitle": false,
     "title": ""
    }
   },
   "outputs": [],
   "source": [
    "%run \"./loader\" "
   ]
  },
  {
   "cell_type": "code",
   "execution_count": 0,
   "metadata": {
    "application/vnd.databricks.v1+cell": {
     "cellMetadata": {
      "byteLimit": 2048000,
      "rowLimit": 10000
     },
     "inputWidgets": {},
     "nuid": "172b528f-2a05-432d-abab-75199ca6eb08",
     "showTitle": false,
     "title": ""
    }
   },
   "outputs": [],
   "source": [
    "from pyspark.sql import SparkSession\n",
    "\n",
    "spark=SparkSession.builder.appName(\"appleproject.me\").getOrCreate()"
   ]
  },
  {
   "cell_type": "code",
   "execution_count": 0,
   "metadata": {
    "application/vnd.databricks.v1+cell": {
     "cellMetadata": {
      "byteLimit": 2048000,
      "rowLimit": 10000
     },
     "inputWidgets": {},
     "nuid": "6c91902f-98b5-464a-8a77-d58e95d700a4",
     "showTitle": false,
     "title": ""
    }
   },
   "outputs": [
    {
     "output_type": "stream",
     "name": "stdout",
     "output_type": "stream",
     "text": [
      "Transaction Table Schema\nroot\n |-- transaction_id: integer (nullable = true)\n |-- customer_id: integer (nullable = true)\n |-- product_name: string (nullable = true)\n |-- transaction_date: date (nullable = true)\n\nCustomer Table Table Schema\nroot\n |-- customer_id: integer (nullable = true)\n |-- customer_name: string (nullable = true)\n |-- join_date: timestamp (nullable = true)\n |-- location: string (nullable = true)\n\n+--------------+-----------+------------+----------------+\n|transaction_id|customer_id|product_name|transaction_date|\n+--------------+-----------+------------+----------------+\n|            11|        105|      iPhone|      2022-02-01|\n|            14|        105|     AirPods|      2022-02-04|\n|            18|        105|     MacBook|      2022-02-08|\n|            12|        106|      iPhone|      2022-02-02|\n|            16|        106|     MacBook|      2022-02-06|\n|            20|        106|     AirPods|      2022-02-10|\n|            13|        107|     AirPods|      2022-02-03|\n|            17|        107|      iPhone|      2022-02-07|\n|            15|        108|      iPhone|      2022-02-05|\n|            19|        108|     AirPods|      2022-02-09|\n+--------------+-----------+------------+----------------+\n\n+-----------+-------------+-------------------+--------+\n|customer_id|customer_name|          join_date|location|\n+-----------+-------------+-------------------+--------+\n|        105|          Eva|2022-01-01 00:00:00|    Ohio|\n|        106|        Frank|2022-02-01 00:00:00|  Nevada|\n|        107|        Grace|2022-03-01 00:00:00|Colorado|\n|        108|        Henry|2022-04-01 00:00:00|    Utah|\n+-----------+-------------+-------------------+--------+\n\n+-----------+-------------+----------+--------+--------------+------------+----------------+------------+\n|customer_id|customer_name| join_date|location|transaction_id|product_name|transaction_date|next_product|\n+-----------+-------------+----------+--------+--------------+------------+----------------+------------+\n|        105|          Eva|2022-01-01|    Ohio|            11|      iPhone|      2022-02-01|     AirPods|\n|        108|        Henry|2022-04-01|    Utah|            15|      iPhone|      2022-02-05|     AirPods|\n+-----------+-------------+----------+--------+--------------+------------+----------------+------------+\n\n"
     ]
    }
   ],
   "source": [
    "class WorkFlow():\n",
    "\n",
    "    def __init__(self):\n",
    "        pass\n",
    "\n",
    "    def runner(self):\n",
    "\n",
    "        #step 1: Extract\n",
    "        input_df=AirpodAfterIphoneExtractor().extract()\n",
    "        #step 2: Transform\n",
    "        first_transform_df=transformer().first_transform_method(input_df)\n",
    "        #step 3: Load\n",
    "        AirpodAfterIphoneLoader(first_transform_df).sink()\n",
    "\n",
    "\n",
    "\n",
    "workflow= WorkFlow().runner()\n",
    "\n"
   ]
  },
  {
   "cell_type": "code",
   "execution_count": 0,
   "metadata": {
    "application/vnd.databricks.v1+cell": {
     "cellMetadata": {},
     "inputWidgets": {},
     "nuid": "490bf476-6418-4816-ad2f-d93cedf72a3d",
     "showTitle": false,
     "title": ""
    }
   },
   "outputs": [],
   "source": []
  }
 ],
 "metadata": {
  "application/vnd.databricks.v1+notebook": {
   "dashboards": [],
   "environmentMetadata": null,
   "language": "python",
   "notebookMetadata": {
    "pythonIndentUnit": 4
   },
   "notebookName": "Analysis",
   "widgets": {}
  }
 },
 "nbformat": 4,
 "nbformat_minor": 0
}
