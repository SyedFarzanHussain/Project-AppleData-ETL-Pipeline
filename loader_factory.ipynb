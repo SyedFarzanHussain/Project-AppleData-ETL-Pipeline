{
 "cells": [
  {
   "cell_type": "code",
   "execution_count": 0,
   "metadata": {
    "application/vnd.databricks.v1+cell": {
     "cellMetadata": {},
     "inputWidgets": {},
     "nuid": "57600e1b-34c0-4477-abd3-6fe9920325b4",
     "showTitle": false,
     "title": ""
    }
   },
   "outputs": [],
   "source": [
    "from pyspark.sql.functions import get"
   ]
  },
  {
   "cell_type": "code",
   "execution_count": 0,
   "metadata": {
    "application/vnd.databricks.v1+cell": {
     "cellMetadata": {
      "byteLimit": 2048000,
      "rowLimit": 10000
     },
     "inputWidgets": {},
     "nuid": "19f745cc-32a7-442f-9256-73fbec86a3dc",
     "showTitle": false,
     "title": ""
    }
   },
   "outputs": [],
   "source": [
    "class DataSink:\n",
    "    \n",
    "    def __init__(self,df,path,method,params=None):\n",
    "        self.path=path\n",
    "        self.df=df\n",
    "        self.method=method\n",
    "        self.params=params\n",
    "\n",
    "\n",
    "    def load_dataframe(self):\n",
    "        \n",
    "        raise ValueError(\"Not Implemented\")\n",
    "\n",
    "class ToDbfs(DataSink):\n",
    "\n",
    "    def load_dataframe(self):\n",
    "        self.df.write.mode(self.method).save(self.path)\n",
    "    \n",
    "class ToDbfsWithPartition(DataSink):\n",
    "\n",
    "    def load_dataframe(self):\n",
    "        patitionByColumn=self.params.get(\"patitionByColumn\")\n",
    "        self.df.write.mode(self.method).partitionBy(*patitionByColumn).save(self.path)\n",
    "    \n",
    "def get_sink_source(sink_type,df,file_path,method,params=None):\n",
    "    if sink_type==\"dbfs\":\n",
    "        return ToDbfs(df,file_path,method,params)   \n",
    "    elif sink_type==\"dbfs_with_partition\":\n",
    "        return ToDbfsWithPartition(df,file_path,method,params)\n",
    "    else:\n",
    "        raise ValueError(f\"Not available for data type:{sink_type}\")"
   ]
  },
  {
   "cell_type": "code",
   "execution_count": 0,
   "metadata": {
    "application/vnd.databricks.v1+cell": {
     "cellMetadata": {},
     "inputWidgets": {},
     "nuid": "6888b68f-860c-4fa4-bd17-a90050fc7fd1",
     "showTitle": false,
     "title": ""
    }
   },
   "outputs": [],
   "source": []
  }
 ],
 "metadata": {
  "application/vnd.databricks.v1+notebook": {
   "dashboards": [],
   "environmentMetadata": null,
   "language": "python",
   "notebookMetadata": {
    "pythonIndentUnit": 4
   },
   "notebookName": "loader_factory",
   "widgets": {}
  }
 },
 "nbformat": 4,
 "nbformat_minor": 0
}
