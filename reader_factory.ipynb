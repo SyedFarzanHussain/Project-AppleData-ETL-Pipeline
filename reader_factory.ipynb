{
 "cells": [
  {
   "cell_type": "code",
   "execution_count": 0,
   "metadata": {
    "application/vnd.databricks.v1+cell": {
     "cellMetadata": {
      "byteLimit": 2048000,
      "rowLimit": 10000
     },
     "inputWidgets": {},
     "nuid": "74bf14a6-ae51-4eb0-afd1-2630c0f8eb58",
     "showTitle": false,
     "title": ""
    }
   },
   "outputs": [],
   "source": [
    "class DataSource:\n",
    "    \n",
    "    def __init__(self,path):\n",
    "        self.path=path\n",
    "\n",
    "    def get_dataframe(self):\n",
    "        \n",
    "        raise ValueError(\"Not Implemented\")\n",
    "\n",
    "class CSVDataSource(DataSource):\n",
    "\n",
    "    def get_dataframe(self):\n",
    "        return spark.read.csv(self.path,header=True,inferSchema=True)\n",
    "    \n",
    "class ParquetDataSource(DataSource):\n",
    "\n",
    "    def get_dataframe(self):\n",
    "        return spark.read.parquet(self.path)\n",
    "    \n",
    "class DeltaDataSource(DataSource):\n",
    "\n",
    "    def get_dataframe(self):\n",
    "        return spark.read.table(self.path)\n",
    "    \n",
    "def get_datasource(data_type,file_path):\n",
    "    if data_type==\"csv\":\n",
    "        return CSVDataSource(file_path)   \n",
    "    elif data_type==\"parquet\":\n",
    "        return ParquetDataSource(file_path)\n",
    "    elif data_type==\"delta\":\n",
    "        return DeltaDataSource(file_path)\n",
    "    else:\n",
    "        raise ValueError(f\"Not available for data type:{data_type}\")"
   ]
  }
 ],
 "metadata": {
  "application/vnd.databricks.v1+notebook": {
   "dashboards": [],
   "environmentMetadata": null,
   "language": "python",
   "notebookMetadata": {
    "pythonIndentUnit": 4
   },
   "notebookName": "reader_factory",
   "widgets": {}
  }
 },
 "nbformat": 4,
 "nbformat_minor": 0
}
