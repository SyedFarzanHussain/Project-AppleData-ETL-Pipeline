{
 "cells": [
  {
   "cell_type": "code",
   "execution_count": 0,
   "metadata": {
    "application/vnd.databricks.v1+cell": {
     "cellMetadata": {
      "byteLimit": 2048000,
      "rowLimit": 10000
     },
     "inputWidgets": {},
     "nuid": "4b291aa6-c5f7-4957-979b-5b1215544d66",
     "showTitle": false,
     "title": ""
    }
   },
   "outputs": [],
   "source": [
    "%run \"./loader_factory\""
   ]
  },
  {
   "cell_type": "code",
   "execution_count": 0,
   "metadata": {
    "application/vnd.databricks.v1+cell": {
     "cellMetadata": {
      "byteLimit": 2048000,
      "rowLimit": 10000
     },
     "inputWidgets": {},
     "nuid": "7f329d9c-09c1-4b46-9124-2e4e63a1dd4d",
     "showTitle": false,
     "title": ""
    }
   },
   "outputs": [],
   "source": [
    "class Loader():\n",
    "\n",
    "    def __init__(self,df):\n",
    "        self.df=df\n",
    "\n",
    "    def sink(self):\n",
    "        pass\n",
    "\n",
    "class AirpodAfterIphoneLoader(Loader):\n",
    "\n",
    "    def sink(self):\n",
    "        get_sink_source(sink_type=\"dbfs\",df=self.df,file_path=\"/dbfs/user/hive/warehouse\",method=\"overwrite\").load_dataframe()\n"
   ]
  },
  {
   "cell_type": "code",
   "execution_count": 0,
   "metadata": {
    "application/vnd.databricks.v1+cell": {
     "cellMetadata": {},
     "inputWidgets": {},
     "nuid": "d2927f8f-240f-429d-9050-9dc56d0138d7",
     "showTitle": false,
     "title": ""
    }
   },
   "outputs": [],
   "source": []
  }
 ],
 "metadata": {
  "application/vnd.databricks.v1+notebook": {
   "dashboards": [],
   "environmentMetadata": null,
   "language": "python",
   "notebookMetadata": {
    "pythonIndentUnit": 4
   },
   "notebookName": "loader",
   "widgets": {}
  }
 },
 "nbformat": 4,
 "nbformat_minor": 0
}
