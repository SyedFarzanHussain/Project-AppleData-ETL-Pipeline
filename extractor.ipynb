{
 "cells": [
  {
   "cell_type": "code",
   "execution_count": 0,
   "metadata": {
    "application/vnd.databricks.v1+cell": {
     "cellMetadata": {
      "byteLimit": 2048000,
      "rowLimit": 10000
     },
     "inputWidgets": {},
     "nuid": "6ccdb36c-7d20-43a7-b86a-be491aa314a3",
     "showTitle": false,
     "title": ""
    }
   },
   "outputs": [],
   "source": [
    "%run \"./reader_factory\" "
   ]
  },
  {
   "cell_type": "code",
   "execution_count": 0,
   "metadata": {
    "application/vnd.databricks.v1+cell": {
     "cellMetadata": {
      "byteLimit": 2048000,
      "rowLimit": 10000
     },
     "inputWidgets": {},
     "nuid": "93678ce9-473d-4590-b045-5941ca0cf85c",
     "showTitle": false,
     "title": ""
    }
   },
   "outputs": [],
   "source": [
    "class Extractor():\n",
    "\n",
    "    def __init__(self):\n",
    "        pass\n",
    "\n",
    "    def extract(self):\n",
    "        pass\n",
    "\n",
    "class AirpodAfterIphoneExtractor(Extractor):\n",
    "\n",
    "    def extract(self):\n",
    "\n",
    "        transactionInputDF=get_datasource(data_type='csv',file_path=\"dbfs:/FileStore/tables/Transaction_Updated.csv\").get_dataframe()\n",
    "\n",
    "        customerInputDF=get_datasource(data_type='delta',file_path=\"default.customer_updated_csv\").get_dataframe()\n",
    "        print(\"Transaction Table Schema\")\n",
    "        transactionInputDF.printSchema()\n",
    "        print(\"Customer Table Table Schema\")\n",
    "        customerInputDF.printSchema()\n",
    "        transactionInputDF.orderBy(\"customer_id\",\"transaction_date\").show()\n",
    "        customerInputDF.show()\n",
    "\n",
    "        input_df={\"transactionDF\":transactionInputDF,\"customerDF\":customerInputDF}\n",
    "        return input_df\n"
   ]
  },
  {
   "cell_type": "code",
   "execution_count": 0,
   "metadata": {
    "application/vnd.databricks.v1+cell": {
     "cellMetadata": {},
     "inputWidgets": {},
     "nuid": "f26a77fa-15ef-49b5-b3a8-e4a3505f4041",
     "showTitle": false,
     "title": ""
    }
   },
   "outputs": [],
   "source": []
  }
 ],
 "metadata": {
  "application/vnd.databricks.v1+notebook": {
   "dashboards": [],
   "environmentMetadata": null,
   "language": "python",
   "notebookMetadata": {
    "pythonIndentUnit": 4
   },
   "notebookName": "extractor",
   "widgets": {}
  }
 },
 "nbformat": 4,
 "nbformat_minor": 0
}
