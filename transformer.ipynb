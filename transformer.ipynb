{
 "cells": [
  {
   "cell_type": "code",
   "execution_count": 0,
   "metadata": {
    "application/vnd.databricks.v1+cell": {
     "cellMetadata": {
      "byteLimit": 2048000,
      "rowLimit": 10000
     },
     "inputWidgets": {},
     "nuid": "63a27935-6c5e-4822-9ccc-46d8d2ce98fb",
     "showTitle": false,
     "title": ""
    }
   },
   "outputs": [],
   "source": [
    "from pyspark.sql.window import Window\n",
    "from pyspark.sql.functions import lead\n",
    "from pyspark.sql.functions import col,broadcast,get\n",
    "from pyspark.sql.types import DateType\n"
   ]
  },
  {
   "cell_type": "code",
   "execution_count": 0,
   "metadata": {
    "application/vnd.databricks.v1+cell": {
     "cellMetadata": {
      "byteLimit": 2048000,
      "rowLimit": 10000
     },
     "inputWidgets": {},
     "nuid": "a41faaa1-d82d-49d0-bede-1684ea58e3e5",
     "showTitle": false,
     "title": ""
    }
   },
   "outputs": [],
   "source": [
    "\n",
    "class transformer():\n",
    "\n",
    "    def __init__(self):\n",
    "        pass\n",
    "\n",
    "    def first_transform_method(self,inputDFs):\n",
    "\n",
    "        transactionInputDF=inputDFs.get(\"transactionDF\")\n",
    "        customerInputDF=inputDFs.get(\"customerDF\")\n",
    "        customerInputDF = customerInputDF.withColumn(\"join_date\", customerInputDF[\"join_date\"].cast(DateType()))\n",
    "        windowSpec=Window.partitionBy(\"customer_id\").orderBy(\"transaction_date\")\n",
    "        transformDF=transactionInputDF.withColumn(\"next_product\",lead(\"product_name\",1).over(windowSpec))\n",
    "        transformDF=transformDF.filter((col(\"product_name\") == \"iPhone\") & (col(\"next_product\") == \"AirPods\")).orderBy(\"customer_id\",\"transaction_date\")\n",
    "        transformDF=customerInputDF.join(broadcast(transformDF),on=\"customer_id\",how=\"inner\")\n",
    "        transformDF.show()\n",
    "        return  transformDF\n",
    "      \n",
    "\n",
    "        \n",
    "        \n"
   ]
  }
 ],
 "metadata": {
  "application/vnd.databricks.v1+notebook": {
   "dashboards": [],
   "environmentMetadata": null,
   "language": "python",
   "notebookMetadata": {
    "pythonIndentUnit": 4
   },
   "notebookName": "transformer",
   "widgets": {}
  }
 },
 "nbformat": 4,
 "nbformat_minor": 0
}
